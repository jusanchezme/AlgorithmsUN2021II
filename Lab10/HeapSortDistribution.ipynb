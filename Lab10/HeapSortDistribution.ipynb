{
  "nbformat": 4,
  "nbformat_minor": 0,
  "metadata": {
    "colab": {
      "name": "HeapSortDistribution.ipynb",
      "provenance": [],
      "collapsed_sections": [
        "y904d12Y43aB",
        "wfg90NPdEzll"
      ],
      "include_colab_link": true
    },
    "kernelspec": {
      "display_name": "Python 3",
      "name": "python3"
    }
  },
  "cells": [
    {
      "cell_type": "markdown",
      "metadata": {
        "id": "view-in-github",
        "colab_type": "text"
      },
      "source": [
        "<a href=\"https://colab.research.google.com/github/jusanchezme/AlgorithmsUN2022I/blob/main/Lab10/HeapSortDistribution.ipynb\" target=\"_parent\"><img src=\"https://colab.research.google.com/assets/colab-badge.svg\" alt=\"Open In Colab\"/></a>"
      ]
    },
    {
      "cell_type": "markdown",
      "source": [
        "# HeapSort CLRS"
      ],
      "metadata": {
        "id": "y904d12Y43aB"
      }
    },
    {
      "cell_type": "markdown",
      "source": [
        "```python\n",
        "PARENT(I)\n",
        "1 def parent(i)\n",
        "2     return int(i /2)\n",
        "```"
      ],
      "metadata": {
        "id": "bMoOiVgbCOVp"
      }
    },
    {
      "cell_type": "markdown",
      "source": [
        "```python\n",
        "LEFT-CHILD(I)\n",
        "1 def left(i)\n",
        "2     return 2 * i\n",
        "```"
      ],
      "metadata": {
        "id": "SZDHcIyXClKF"
      }
    },
    {
      "cell_type": "markdown",
      "source": [
        "```python\n",
        "RIGHT-CHILD(I)\n",
        "1 def right(i)\n",
        "2     return 2 * i + 1\n",
        "```"
      ],
      "metadata": {
        "id": "pquSv9etCtId"
      }
    },
    {
      "cell_type": "markdown",
      "source": [
        "\n",
        "```python\n",
        "MAX-HEAPIFY(A,I)\n",
        "1 def max_heapify(A, i):\n",
        "2   l = left(i)\n",
        "3   r = right(i)\n",
        "4   if l <= (len(A)- 1) and A[l] > A[i]:\n",
        "5       largest = l \n",
        "6   else: \n",
        "7       largest = i\n",
        "8   if r <= len(A)- 1 and A[r] > A[largest]:\n",
        "9      largest = r\n",
        "10   if largest <> i:\n",
        "11      A[i], A[largest] = A[largest], A[i]\n",
        "12      max_heapify(A, largest)\n",
        "```"
      ],
      "metadata": {
        "id": "XF423aC9AlvP"
      }
    },
    {
      "cell_type": "markdown",
      "source": [
        "```python\n",
        "BUILD-MAX-HEAP(A)\n",
        "1 def build_max_heap(A):\n",
        "2   for i in range(int(len(A) / 2), 0, -1):\n",
        "3       max_heapify(A, i)\n",
        "```"
      ],
      "metadata": {
        "id": "m_ZxZ2XbBbnl"
      }
    },
    {
      "cell_type": "markdown",
      "source": [
        "\n",
        "\n",
        "```python\n",
        "HEAP-SORT(A)\n",
        "1 def heap_sort(A):\n",
        "2    B = []\n",
        "3    build_max_heap(A)\n",
        "4    while len(A)>1:\n",
        "5       maxim = A[1]\n",
        "6       A[1] = A[-1]\n",
        "7       del A[-1]\n",
        "8       B.insert(0,maxim)\n",
        "10      max_heapify(A,1,trace=False)\n",
        "11  return B\n",
        "```"
      ],
      "metadata": {
        "id": "jiXx0DsyMvYg"
      }
    },
    {
      "cell_type": "markdown",
      "metadata": {
        "id": "fhN5fOn8GtzR"
      },
      "source": [
        "# Experimental analysis of the Heap Sort execution time "
      ]
    },
    {
      "cell_type": "code",
      "metadata": {
        "id": "okoDn4138BuH"
      },
      "source": [
        "from math import log\n",
        "\n",
        "def pretty_print_heap(A):\n",
        "    n = len(A) - 1 # the heap starts at position 1, so A[0] is ignored\n",
        "    for h in range(int(log(n,2))):\n",
        "        nspc = (2**(int(log(n,2)) - h + 1) - 2)\n",
        "        line = nspc * ' '\n",
        "        for i in range(2**h, 2**(h+1)):\n",
        "            line += repr(A[i]).ljust(2) + (2*nspc + 2)*' '\n",
        "        print(line)\n",
        "    line = ''\n",
        "    for i in range(2**(int(log(n,2))), n+1):\n",
        "        line += repr(A[i]).ljust(2) + '  '\n",
        "    print(line)\n",
        "\n",
        "def parent(i):\n",
        "    return int(i / 2)\n",
        "\n",
        "def left(i):\n",
        "    return 2 * i\n",
        "\n",
        "def right(i):\n",
        "    return 2 * i + 1\n",
        "\n",
        "def max_heapify(A, i):\n",
        "    l = left(i)\n",
        "    r = right(i)\n",
        "    if l <= (len(A)- 1) and A[l] > A[i]:\n",
        "        largest = l \n",
        "    else: \n",
        "        largest = i\n",
        "    if r <= len(A)- 1 and A[r] > A[largest]:\n",
        "        largest = r\n",
        "    if largest != i:\n",
        "        A[i], A[largest] = A[largest], A[i]\n",
        "        max_heapify(A, largest)\n",
        "\n",
        "def build_max_heap(A):\n",
        "    for i in range(int(len(A) / 2), 0, -1):\n",
        "        max_heapify(A, i)\n",
        "\n",
        "def heap_sort(A):\n",
        "    B = []\n",
        "    build_max_heap(A)\n",
        "    while len(A)>1:\n",
        "        maxim = A[1]\n",
        "        A[1] = A[-1]\n",
        "        del A[-1]\n",
        "        B.insert(0,maxim)\n",
        "        max_heapify(A,1)\n",
        "    return B"
      ],
      "execution_count": null,
      "outputs": []
    },
    {
      "cell_type": "code",
      "metadata": {
        "colab": {
          "base_uri": "https://localhost:8080/"
        },
        "id": "YYN7XbqayeU4",
        "outputId": "d8a50b1a-38d9-4e37-b2c6-065cf86afec3"
      },
      "source": [
        "A = [1,2,3,4,5,6,7,8]\n",
        "A = heap_sort(A)\n",
        "print(A)\n",
        "pretty_print_heap(A)\n",
        "\n",
        "A = [6,7,2,5,4,3,8,1]\n",
        "A = heap_sort(A)\n",
        "print(A)\n",
        "\n",
        "A = [8,7,6,5,4,3,2,1]\n",
        "A = heap_sort(A)\n",
        "print(A)"
      ],
      "execution_count": null,
      "outputs": [
        {
          "output_type": "stream",
          "name": "stdout",
          "text": [
            "[2, 3, 4, 5, 6, 7, 8]\n",
            "      3               \n",
            "  4       5       \n",
            "6   7   8   \n",
            "[1, 2, 3, 4, 5, 7, 8]\n",
            "[1, 2, 3, 4, 5, 6, 7]\n"
          ]
        }
      ]
    },
    {
      "cell_type": "code",
      "metadata": {
        "colab": {
          "base_uri": "https://localhost:8080/",
          "height": 300
        },
        "id": "3W4AVrGyXa_c",
        "outputId": "0bee3b8a-3224-4e3a-c280-baf469c40077"
      },
      "source": [
        "import numpy as np\n",
        "import matplotlib.pyplot as plt\n",
        "import time \n",
        "\n",
        "sizes = np.arange(1,200,1)\n",
        "results_insertion = []\n",
        "for i in sizes:\n",
        "    list1 = list(range(i))\n",
        "    tic = time.time() \n",
        "    heap_sort(list1)\n",
        "    toc = time.time() \n",
        "    timesum = toc - tic\n",
        "    results_insertion.append(timesum) \n",
        "plt.plot(sizes, results_insertion, 'bx', label = 'Heap sort')\n",
        "plt.xlabel('Array size')\n",
        "plt.ylabel('Seconds')\n",
        "plt.legend(loc = 'upper left')"
      ],
      "execution_count": null,
      "outputs": [
        {
          "output_type": "execute_result",
          "data": {
            "text/plain": [
              "<matplotlib.legend.Legend at 0x7f72d6a8c490>"
            ]
          },
          "metadata": {},
          "execution_count": 3
        },
        {
          "output_type": "display_data",
          "data": {
            "text/plain": [
              "<Figure size 432x288 with 1 Axes>"
            ],
            "image/png": "[encoded data removed]"
          },
          "metadata": {
            "needs_background": "light"
          }
        }
      ]
    },
    {
      "cell_type": "code",
      "metadata": {
        "colab": {
          "base_uri": "https://localhost:8080/",
          "height": 296
        },
        "id": "MAEtgnhgZkAk",
        "outputId": "ab77a341-9f54-4a34-d4bb-117b87ffcf37"
      },
      "source": [
        "import numpy as np\n",
        "import matplotlib.pyplot as plt\n",
        "import time \n",
        "\n",
        "sizes = np.arange(1,200,1)\n",
        "results_insertion = []\n",
        "for i in sizes:\n",
        "    list1 = list(range(i,1,-1))\n",
        "    tic = time.time() \n",
        "    heap_sort(list1)\n",
        "    toc = time.time() \n",
        "    timesum = toc - tic\n",
        "    results_insertion.append(timesum) \n",
        "plt.plot(sizes, results_insertion, 'bx', label = 'Heap sort')\n",
        "plt.xlabel('Array size')\n",
        "plt.ylabel('Seconds')\n",
        "plt.legend(loc = 'upper left')"
      ],
      "execution_count": null,
      "outputs": [
        {
          "output_type": "execute_result",
          "data": {
            "text/plain": [
              "<matplotlib.legend.Legend at 0x7f72d0efff10>"
            ]
          },
          "metadata": {},
          "execution_count": 4
        },
        {
          "output_type": "display_data",
          "data": {
            "text/plain": [
              "<Figure size 432x288 with 1 Axes>"
            ],
            "image/png": "[encoded data removed]"
          },
          "metadata": {
            "needs_background": "light"
          }
        }
      ]
    },
    {
      "cell_type": "code",
      "metadata": {
        "colab": {
          "base_uri": "https://localhost:8080/",
          "height": 296
        },
        "id": "rxXIV4TbZzHU",
        "outputId": "de246102-b2d3-4d09-d8d5-7abf55c9273e"
      },
      "source": [
        "import numpy as np\n",
        "import matplotlib.pyplot as plt\n",
        "import time \n",
        "import random as rnd\n",
        "\n",
        "sizes = np.arange(1,200,1)\n",
        "results_insertion = []\n",
        "sizes_insertion = []\n",
        "for i in sizes:\n",
        "  for j in range(20):\n",
        "    list1 = list(range(i))\n",
        "    rnd.shuffle(list1)\n",
        "    tic = time.time() \n",
        "    heap_sort(list1)\n",
        "    toc = time.time() \n",
        "    timesum = toc - tic\n",
        "    results_insertion.append(timesum) \n",
        "    sizes_insertion.append(i) \n",
        "plt.plot(sizes_insertion, results_insertion, 'bx', label = 'Insertion sort')\n",
        "plt.xlabel('Array size')\n",
        "plt.ylabel('Seconds')\n",
        "plt.legend(loc = 'upper left')"
      ],
      "execution_count": null,
      "outputs": [
        {
          "output_type": "execute_result",
          "data": {
            "text/plain": [
              "<matplotlib.legend.Legend at 0x7f72d0a23210>"
            ]
          },
          "metadata": {},
          "execution_count": 5
        },
        {
          "output_type": "display_data",
          "data": {
            "text/plain": [
              "<Figure size 432x288 with 1 Axes>"
            ],
            "image/png": "[encoded data removed]"
          },
          "metadata": {
            "needs_background": "light"
          }
        }
      ]
    },
    {
      "cell_type": "code",
      "metadata": {
        "colab": {
          "base_uri": "https://localhost:8080/",
          "height": 296
        },
        "id": "-YDLqtvn9F-n",
        "outputId": "40c811d2-2a4f-494b-eb95-892d6415c836"
      },
      "source": [
        "import numpy as np\n",
        "import matplotlib.pyplot as plt\n",
        "import time \n",
        "import random as rnd\n",
        "\n",
        "sizes = np.arange(1,21,1)\n",
        "results_insertion = []\n",
        "sizes_insertion = []\n",
        "for i in sizes:\n",
        "\n",
        "  list1 = list(range(i))\n",
        "  tic = time.time() \n",
        "  heap_sort(list1)\n",
        "  toc = time.time() \n",
        "  timesum = toc - tic\n",
        "  results_insertion.append(timesum) \n",
        "  sizes_insertion.append(i) \n",
        "  \n",
        "  list1 = list(range(i,1,-1))\n",
        "  tic = time.time() \n",
        "  heap_sort(list1)\n",
        "  toc = time.time() \n",
        "  timesum = toc - tic\n",
        "  results_insertion.append(timesum) \n",
        "  sizes_insertion.append(i) \n",
        "  \n",
        "  for j in range(23):\n",
        "    list1 = list(range(i))\n",
        "    rnd.shuffle(list1)\n",
        "    tic = time.time() \n",
        "    heap_sort(list1)\n",
        "    toc = time.time() \n",
        "    timesum = toc - tic\n",
        "    results_insertion.append(timesum) \n",
        "    sizes_insertion.append(i) \n",
        "\n",
        "plt.plot(sizes_insertion, results_insertion, 'bx', label = 'Heap sort')\n",
        "plt.xlabel('Array size')\n",
        "plt.ylabel('Seconds')\n",
        "plt.legend(loc = 'upper left')"
      ],
      "execution_count": null,
      "outputs": [
        {
          "output_type": "execute_result",
          "data": {
            "text/plain": [
              "<matplotlib.legend.Legend at 0x7f72d0918190>"
            ]
          },
          "metadata": {},
          "execution_count": 6
        },
        {
          "output_type": "display_data",
          "data": {
            "text/plain": [
              "<Figure size 432x288 with 1 Axes>"
            ],
            "image/png": "[encoded data removed]"
          },
          "metadata": {
            "needs_background": "light"
          }
        }
      ]
    },
    {
      "cell_type": "code",
      "metadata": {
        "colab": {
          "base_uri": "https://localhost:8080/",
          "height": 296
        },
        "id": "3CMJ1Uh0brT0",
        "outputId": "75099b3f-2d35-4fc1-a90f-a9a01011203d"
      },
      "source": [
        "import numpy as np\n",
        "import matplotlib.pyplot as plt\n",
        "import time \n",
        "import random as rnd\n",
        "\n",
        "sizes = np.arange(1,200,1)\n",
        "results_insertion = []\n",
        "sizes_insertion = []\n",
        "for i in sizes:\n",
        "\n",
        "  list1 = list(range(i))\n",
        "  tic = time.time() \n",
        "  heap_sort(list1)\n",
        "  toc = time.time() \n",
        "  timesum = toc - tic\n",
        "  results_insertion.append(timesum) \n",
        "  sizes_insertion.append(i) \n",
        "  \n",
        "  list1 = list(range(i,1,-1))\n",
        "  tic = time.time() \n",
        "  heap_sort(list1)\n",
        "  toc = time.time() \n",
        "  timesum = toc - tic\n",
        "  results_insertion.append(timesum) \n",
        "  sizes_insertion.append(i) \n",
        "  \n",
        "  for j in range(20):\n",
        "    list1 = list(range(i))\n",
        "    rnd.shuffle(list1)\n",
        "    tic = time.time() \n",
        "    heap_sort(list1)\n",
        "    toc = time.time() \n",
        "    timesum = toc - tic\n",
        "    results_insertion.append(timesum) \n",
        "    sizes_insertion.append(i) \n",
        "\n",
        "plt.plot(sizes_insertion, results_insertion, 'bx', label = 'Heap sort')\n",
        "plt.xlabel('Array size')\n",
        "plt.ylabel('Seconds')\n",
        "plt.legend(loc = 'upper left')"
      ],
      "execution_count": null,
      "outputs": [
        {
          "output_type": "execute_result",
          "data": {
            "text/plain": [
              "<matplotlib.legend.Legend at 0x7f72d74af2d0>"
            ]
          },
          "metadata": {},
          "execution_count": 7
        },
        {
          "output_type": "display_data",
          "data": {
            "text/plain": [
              "<Figure size 432x288 with 1 Axes>"
            ],
            "image/png": "[encoded data removed]"
          },
          "metadata": {
            "needs_background": "light"
          }
        }
      ]
    },
    {
      "cell_type": "markdown",
      "metadata": {
        "id": "oI9mVQ6O5s16"
      },
      "source": [
        "# TODO Heap sort  time complexity histograms for permutations of $n$ different elements counting steps like CLRS I.2.1 \n",
        "\n",
        "$$t (n) =  2n - 1  + 3 \\sum_{j=2,..,n} t_j $$\n",
        "\n",
        "## Best case - increasingly sorted array \n",
        "$$t_b(n) =  5n - 4 = \\Theta(n)$$\n",
        "\n",
        "## Worst case - de creasingly sorted array \n",
        "\n",
        "$$t_w(n) = \\frac{3}{2} n^2 + \\frac{7}{2} n  - 4 = \\Theta(n^2)$$\n",
        "\n",
        "## Average case - expected number of comparisons + swaps on random unifrom permutation of $n$ different elements \n",
        "\n",
        "$$t_a(n) = \\frac{3}{4} n^2 + \\frac{17}{4} n  - 4  = \\Theta(n^2)$$\n",
        "\n",
        " "
      ]
    },
    {
      "cell_type": "code",
      "metadata": {
        "colab": {
          "base_uri": "https://localhost:8080/",
          "height": 296
        },
        "id": "scmCThyk2myO",
        "outputId": "be694243-4b84-499c-a03f-cabb91406f05"
      },
      "source": [
        "import matplotlib.pyplot as plt\n",
        "import numpy as np\n",
        "\n",
        "n = np.arange(1,21,1)\n",
        "\n",
        "plt.plot(n, 5*n-4,  label = 'Heap sort best time $5n-4$')\n",
        "plt.plot(n, 3/4*n**2+17/4*n-4, label = 'Heap average time $3/4 n*^2+17/4 n - 4$')\n",
        "plt.plot(n, 3/2*n**2+7/2*n-4, label = 'HEap average time $3/2 n*^2+7/2 n - 4$')\n",
        "plt.xlabel('Array size')\n",
        "plt.ylabel('Steps')\n",
        "plt.legend(loc = 'upper left')"
      ],
      "execution_count": null,
      "outputs": [
        {
          "output_type": "execute_result",
          "data": {
            "text/plain": [
              "<matplotlib.legend.Legend at 0x7f72d08505d0>"
            ]
          },
          "metadata": {},
          "execution_count": 8
        },
        {
          "output_type": "display_data",
          "data": {
            "text/plain": [
              "<Figure size 432x288 with 1 Axes>"
            ],
            "image/png": "[encoded data removed]"
          },
          "metadata": {
            "needs_background": "light"
          }
        }
      ]
    },
    {
      "cell_type": "code",
      "metadata": {
        "id": "9jtIbWEuICvE"
      },
      "source": [
        "\n",
        "def max_heapify_steps(A, i):\n",
        "    steps = 0\n",
        "    l = left(i)\n",
        "    r = right(i)\n",
        "    if l <= (len(A)- 1) and A[l] > A[i]:\n",
        "        largest = l \n",
        "    else: \n",
        "        largest = i\n",
        "    if r <= len(A)- 1 and A[r] > A[largest]:\n",
        "        largest = r\n",
        "        steps = steps + 1\n",
        "    if largest != i:\n",
        "        A[i], A[largest] = A[largest], A[i]\n",
        "        steps = steps + 1\n",
        "        steps = steps + max_heapify_steps(A, largest)\n",
        "    steps = steps + 6\n",
        "    return steps\n",
        "\n",
        "def heap_sort_steps(A, B):\n",
        "    build_max_heap(A)\n",
        "    steps = 0\n",
        "    while len(A)>1:\n",
        "        maxim = A[1]\n",
        "        A[1] = A[-1]\n",
        "        del A[-1]\n",
        "        B.insert(0,maxim)\n",
        "        steps = steps + 5\n",
        "        steps = steps + max_heapify_steps(A,1)\n",
        "    steps = steps + 1\n",
        "    return steps\n",
        "\n"
      ],
      "execution_count": null,
      "outputs": []
    },
    {
      "cell_type": "code",
      "metadata": {
        "colab": {
          "base_uri": "https://localhost:8080/"
        },
        "id": "fUv1bwZszblg",
        "outputId": "ddc62681-bbe4-48d1-f638-23f1eeced471"
      },
      "source": [
        "A = [1,2,3,4,5,6,7,8]\n",
        "B = []\n",
        "print(heap_sort_steps(A,B))\n",
        "pretty_print_heap(B)\n",
        "\n",
        "A = [6,7,2,4,5,3,8,1]\n",
        "B = []\n",
        "print(heap_sort_steps(A,B))\n",
        "pretty_print_heap(B)\n",
        "\n",
        "A = [8,7,6,5,4,3,2,1]\n",
        "B = []\n",
        "print(heap_sort_steps(A,B))\n",
        "pretty_print_heap(B)"
      ],
      "execution_count": null,
      "outputs": [
        {
          "output_type": "stream",
          "name": "stdout",
          "text": [
            "122\n",
            "      3               \n",
            "  4       5       \n",
            "6   7   8   \n",
            "130\n",
            "      2               \n",
            "  3       4       \n",
            "5   7   8   \n",
            "114\n",
            "      2               \n",
            "  3       4       \n",
            "5   6   7   \n"
          ]
        }
      ]
    },
    {
      "cell_type": "code",
      "metadata": {
        "colab": {
          "base_uri": "https://localhost:8080/"
        },
        "id": "bVMt0tTv6ps-",
        "outputId": "98671ab6-0736-414a-98cf-4d0ca03723a5"
      },
      "source": [
        "from itertools import permutations\n",
        " \n",
        "n = 3\n",
        "perm = permutations(range(1,n+1))\n",
        "\n",
        "ls =  [] \n",
        "# Print the obtained permutations\n",
        "for i in list(perm):\n",
        "   print(i)"
      ],
      "execution_count": null,
      "outputs": [
        {
          "output_type": "stream",
          "name": "stdout",
          "text": [
            "(1, 2, 3)\n",
            "(1, 3, 2)\n",
            "(2, 1, 3)\n",
            "(2, 3, 1)\n",
            "(3, 1, 2)\n",
            "(3, 2, 1)\n"
          ]
        }
      ]
    },
    {
      "cell_type": "markdown",
      "metadata": {
        "id": "MfVzfDUnIJMT"
      },
      "source": [
        "Generate all permutations without repetitions of size *n* (for small *n*), plot the \"exact\" time  distribution (number of steps), and print the media and the standar deviation"
      ]
    },
    {
      "cell_type": "code",
      "metadata": {
        "colab": {
          "base_uri": "https://localhost:8080/",
          "height": 451
        },
        "id": "6OlufEV-IJoK",
        "outputId": "db50cce0-6fa6-4960-87fe-6df31caac435"
      },
      "source": [
        "from itertools import permutations\n",
        "import matplotlib.pyplot as plt\n",
        "import numpy as np\n",
        "import math\n",
        "\n",
        "n=3\n",
        "X = range(n)\n",
        "times = []\n",
        "\n",
        "for P in permutations(X):\n",
        "  t = heap_sort_steps(list(P), B = []) \n",
        "  times.append(t)  \n",
        "b = np.array(range(min(times)-1, max(times)+1))+0.5\n",
        "plt.hist(times, bins = b )\n",
        "plt.title(\"Heap Sort\")\n",
        "plt.xlabel(\"Steps\")\n",
        "plt.ylabel(\"Frequency\")\n",
        "plt.show()\n",
        "    \n",
        "print(\"n\",n)\n",
        "print(\"number of permutations n! =\",math.factorial(n)) \n",
        "print(\"exp min =\",min(times))\n",
        "print(\"min formula 5*n-4 =\",5*n-4)\n",
        "print(\"exp max =\",max(times))\n",
        "print(\"max formula 3/2*n**2+7/2*n-4 =\",3/2*n**2+7/2*n-4)\n",
        "print(\"exp mean =\",np.mean(times))\n",
        "print(\"mean formula 3/4*n**2+17/4*n-4 =\",3/4*n**2+17/4*n-4)\n",
        "print(\"stdev\",np.std(times))"
      ],
      "execution_count": null,
      "outputs": [
        {
          "output_type": "display_data",
          "data": {
            "text/plain": [
              "<Figure size 432x288 with 1 Axes>"
            ],
            "image/png": "[encoded data removed]"
          },
          "metadata": {
            "needs_background": "light"
          }
        },
        {
          "output_type": "stream",
          "name": "stdout",
          "text": [
            "n 3\n",
            "number of permutations n! = 6\n",
            "exp min = 23\n",
            "min formula 5*n-4 = 11\n",
            "exp max = 23\n",
            "max formula 3/2*n**2+7/2*n-4 = 20.0\n",
            "exp mean = 23.0\n",
            "mean formula 3/4*n**2+17/4*n-4 = 15.5\n",
            "stdev 0.0\n"
          ]
        }
      ]
    },
    {
      "cell_type": "code",
      "metadata": {
        "colab": {
          "base_uri": "https://localhost:8080/",
          "height": 451
        },
        "id": "syZeILJdwNFD",
        "outputId": "7b823d31-2582-450a-c084-de5649ba74f7"
      },
      "source": [
        "from itertools import permutations\n",
        "import matplotlib.pyplot as plt\n",
        "import numpy as np\n",
        "import math\n",
        "\n",
        "n=4\n",
        "X = range(n)\n",
        "times = []\n",
        "\n",
        "for P in permutations(X):\n",
        "  t = heap_sort_steps(list(P), B = []) \n",
        "  times.append(t)  \n",
        "\n",
        "b = np.array(range(min(times)-1, max(times)+1))+0.5\n",
        "plt.hist(times, bins = b )\n",
        "plt.title(\"Heap Sort\")\n",
        "plt.xlabel(\"Steps\")\n",
        "plt.ylabel(\"Frequency\")\n",
        "plt.show()\n",
        "    \n",
        "print(\"n\",n)\n",
        "print(\"number of permutations n! =\",math.factorial(n)) \n",
        "print(\"exp min =\",min(times))\n",
        "print(\"min formula 5*n-4 =\",5*n-4)\n",
        "print(\"exp max =\",max(times))\n",
        "print(\"max formula 3/2*n**2+7/2*n-4 =\",3/2*n**2+7/2*n-4)\n",
        "print(\"exp mean =\",np.mean(times))\n",
        "print(\"mean formula 3/4*n**2+17/4*n-4 =\",3/4*n**2+17/4*n-4)\n",
        "print(\"stdev\",np.std(times))"
      ],
      "execution_count": null,
      "outputs": [
        {
          "output_type": "display_data",
          "data": {
            "text/plain": [
              "<Figure size 432x288 with 1 Axes>"
            ],
            "image/png": "[encoded data removed]"
          },
          "metadata": {
            "needs_background": "light"
          }
        },
        {
          "output_type": "stream",
          "name": "stdout",
          "text": [
            "n 4\n",
            "number of permutations n! = 24\n",
            "exp min = 34\n",
            "min formula 5*n-4 = 16\n",
            "exp max = 41\n",
            "max formula 3/2*n**2+7/2*n-4 = 34.0\n",
            "exp mean = 37.5\n",
            "mean formula 3/4*n**2+17/4*n-4 = 25.0\n",
            "stdev 3.5\n"
          ]
        }
      ]
    },
    {
      "cell_type": "code",
      "metadata": {
        "colab": {
          "base_uri": "https://localhost:8080/",
          "height": 451
        },
        "id": "I-5RT7J6wQ54",
        "outputId": "cf413ecf-d59d-4d1f-ebf9-0eb3007a4705"
      },
      "source": [
        "from itertools import permutations\n",
        "import matplotlib.pyplot as plt\n",
        "import numpy as np\n",
        "import math\n",
        "\n",
        "n=5\n",
        "X = range(n)\n",
        "times = []\n",
        "\n",
        "for P in permutations(X):\n",
        "  t = heap_sort_steps(list(P), B = [])  \n",
        "  times.append(t)  \n",
        "\n",
        "b = np.array(range(min(times)-1, max(times)+1))+0.5\n",
        "plt.hist(times, bins = b )\n",
        "plt.title(\"Heap Sort\")\n",
        "plt.xlabel(\"Steps\")\n",
        "plt.ylabel(\"Frequency\")\n",
        "plt.show()\n",
        "    \n",
        "print(\"n\",n)\n",
        "print(\"number of permutations n! =\",math.factorial(n)) \n",
        "print(\"exp min =\",min(times))\n",
        "print(\"min formula 5*n-4 =\",5*n-4)\n",
        "print(\"exp max =\",max(times))\n",
        "print(\"max formula 3/2*n**2+7/2*n-4 =\",3/2*n**2+7/2*n-4)\n",
        "print(\"exp mean =\",np.mean(times))\n",
        "print(\"mean formula 3/4*n**2+17/4*n-4 =\",3/4*n**2+17/4*n-4)\n",
        "print(\"stdev\",np.std(times))"
      ],
      "execution_count": null,
      "outputs": [
        {
          "output_type": "display_data",
          "data": {
            "text/plain": [
              "<Figure size 432x288 with 1 Axes>"
            ],
            "image/png": "[encoded data removed]"
          },
          "metadata": {
            "needs_background": "light"
          }
        },
        {
          "output_type": "stream",
          "name": "stdout",
          "text": [
            "n 5\n",
            "number of permutations n! = 120\n",
            "exp min = 52\n",
            "min formula 5*n-4 = 21\n",
            "exp max = 60\n",
            "max formula 3/2*n**2+7/2*n-4 = 51.0\n",
            "exp mean = 57.0\n",
            "mean formula 3/4*n**2+17/4*n-4 = 36.0\n",
            "stdev 3.559026084010437\n"
          ]
        }
      ]
    },
    {
      "cell_type": "code",
      "metadata": {
        "colab": {
          "base_uri": "https://localhost:8080/",
          "height": 451
        },
        "id": "yXlJ8bscwT3_",
        "outputId": "ea3331cb-a077-44a4-f701-884cecd14352"
      },
      "source": [
        "from itertools import permutations\n",
        "import matplotlib.pyplot as plt\n",
        "import numpy as np\n",
        "import math\n",
        "\n",
        "n=6\n",
        "X = range(n)\n",
        "times = []\n",
        "\n",
        "for P in permutations(X):\n",
        "  t = heap_sort_steps(list(P), B = []) \n",
        "  times.append(t)  \n",
        "\n",
        "b = np.array(range(min(times)-1, max(times)+1))+0.5\n",
        "plt.hist(times, bins = b )\n",
        "plt.title(\"Heap Sort\")\n",
        "plt.xlabel(\"Steps\")\n",
        "plt.ylabel(\"Frequency\")\n",
        "plt.show()\n",
        "    \n",
        "print(\"n\",n)\n",
        "print(\"number of permutations n! =\",math.factorial(n)) \n",
        "print(\"exp min =\",min(times))\n",
        "print(\"min formula 5*n-4 =\",5*n-4)\n",
        "print(\"exp max =\",max(times))\n",
        "print(\"max formula 3/2*n**2+7/2*n-4 =\",3/2*n**2+7/2*n-4)\n",
        "print(\"exp mean =\",np.mean(times))\n",
        "print(\"mean formula 3/4*n**2+17/4*n-4 =\",3/4*n**2+17/4*n-4)\n",
        "print(\"stdev\",np.std(times))"
      ],
      "execution_count": null,
      "outputs": [
        {
          "output_type": "display_data",
          "data": {
            "text/plain": [
              "<Figure size 432x288 with 1 Axes>"
            ],
            "image/png": "[encoded data removed]"
          },
          "metadata": {
            "needs_background": "light"
          }
        },
        {
          "output_type": "stream",
          "name": "stdout",
          "text": [
            "n 6\n",
            "number of permutations n! = 720\n",
            "exp min = 70\n",
            "min formula 5*n-4 = 26\n",
            "exp max = 85\n",
            "max formula 3/2*n**2+7/2*n-4 = 71.0\n",
            "exp mean = 77.5\n",
            "mean formula 3/4*n**2+17/4*n-4 = 48.5\n",
            "stdev 4.9749371855331\n"
          ]
        }
      ]
    },
    {
      "cell_type": "code",
      "metadata": {
        "colab": {
          "base_uri": "https://localhost:8080/",
          "height": 451
        },
        "id": "IZzSy0ArmQg7",
        "outputId": "aad67fc0-263a-4726-8245-be968eaa47bc"
      },
      "source": [
        "from itertools import permutations\n",
        "import matplotlib.pyplot as plt\n",
        "import numpy as np\n",
        "import math\n",
        "\n",
        "n=7\n",
        "X = range(n)\n",
        "times = []\n",
        "\n",
        "for P in permutations(X):\n",
        "  t = heap_sort_steps(list(P), B = []) \n",
        "  times.append(t)  \n",
        "\n",
        "b = np.array(range(min(times)-1, max(times)+1))+0.5\n",
        "plt.hist(times, bins = b )\n",
        "plt.title(\"Heap Sort\")\n",
        "plt.xlabel(\"Steps\")\n",
        "plt.ylabel(\"Frequency\")\n",
        "plt.show()\n",
        "    \n",
        "print(\"n\",n)\n",
        "print(\"number of permutations n! =\",math.factorial(n)) \n",
        "print(\"exp min =\",min(times))\n",
        "print(\"min formula 5*n-4 =\",5*n-4)\n",
        "print(\"exp max =\",max(times))\n",
        "print(\"max formula 3/2*n**2+7/2*n-4 =\",3/2*n**2+7/2*n-4)\n",
        "print(\"exp mean =\",np.mean(times))\n",
        "print(\"mean formula 3/4*n**2+17/4*n-4 =\",3/4*n**2+17/4*n-4)\n",
        "print(\"stdev\",np.std(times))"
      ],
      "execution_count": null,
      "outputs": [
        {
          "output_type": "display_data",
          "data": {
            "text/plain": [
              "<Figure size 432x288 with 1 Axes>"
            ],
            "image/png": "[encoded data removed]"
          },
          "metadata": {
            "needs_background": "light"
          }
        },
        {
          "output_type": "stream",
          "name": "stdout",
          "text": [
            "n 7\n",
            "number of permutations n! = 5040\n",
            "exp min = 89\n",
            "min formula 5*n-4 = 31\n",
            "exp max = 111\n",
            "max formula 3/2*n**2+7/2*n-4 = 94.0\n",
            "exp mean = 99.15\n",
            "mean formula 3/4*n**2+17/4*n-4 = 62.5\n",
            "stdev 6.117801892837001\n"
          ]
        }
      ]
    },
    {
      "cell_type": "code",
      "metadata": {
        "colab": {
          "base_uri": "https://localhost:8080/",
          "height": 451
        },
        "id": "IXzjXmURmSbU",
        "outputId": "53975149-d873-484c-89fc-be46d5740d0f"
      },
      "source": [
        "from itertools import permutations\n",
        "import matplotlib.pyplot as plt\n",
        "import numpy as np\n",
        "import math\n",
        "\n",
        "n=8\n",
        "X = range(n)\n",
        "times = []\n",
        "\n",
        "for P in permutations(X):\n",
        "  t = heap_sort_steps(list(P), B = []) \n",
        "  times.append(t)  \n",
        "\n",
        "b = np.array(range(min(times)-1, max(times)+1))+0.5\n",
        "plt.hist(times, bins = b )\n",
        "plt.title(\"Heap Sort\")\n",
        "plt.xlabel(\"Steps\")\n",
        "plt.ylabel(\"Frequency\")\n",
        "plt.show()\n",
        "    \n",
        "print(\"n\",n)\n",
        "print(\"number of permutations n! =\",math.factorial(n)) \n",
        "print(\"exp min =\",min(times))\n",
        "print(\"min formula 5*n-4 =\",5*n-4)\n",
        "print(\"exp max =\",max(times))\n",
        "print(\"max formula 3/2*n**2+7/2*n-4 =\",3/2*n**2+7/2*n-4)\n",
        "print(\"exp mean =\",np.mean(times))\n",
        "print(\"mean formula 3/4*n**2+17/4*n-4 =\",3/4*n**2+17/4*n-4)\n",
        "print(\"stdev\",np.std(times))"
      ],
      "execution_count": null,
      "outputs": [
        {
          "output_type": "display_data",
          "data": {
            "text/plain": [
              "<Figure size 432x288 with 1 Axes>"
            ],
            "image/png": "[encoded data removed]"
          },
          "metadata": {
            "needs_background": "light"
          }
        },
        {
          "output_type": "stream",
          "name": "stdout",
          "text": [
            "n 8\n",
            "number of permutations n! = 40320\n",
            "exp min = 107\n",
            "min formula 5*n-4 = 36\n",
            "exp max = 137\n",
            "max formula 3/2*n**2+7/2*n-4 = 120.0\n",
            "exp mean = 121.75\n",
            "mean formula 3/4*n**2+17/4*n-4 = 78.0\n",
            "stdev 6.9273010617411455\n"
          ]
        }
      ]
    },
    {
      "cell_type": "code",
      "metadata": {
        "colab": {
          "base_uri": "https://localhost:8080/",
          "height": 451
        },
        "id": "xXBBldkSmUSK",
        "outputId": "16650fda-234c-4bec-b778-7505c5809227"
      },
      "source": [
        "from itertools import permutations\n",
        "import matplotlib.pyplot as plt\n",
        "import numpy as np\n",
        "import math\n",
        "\n",
        "n=9\n",
        "X = range(n)\n",
        "times = []\n",
        "\n",
        "for P in permutations(X):\n",
        "  t = heap_sort_steps(list(P), B = []) \n",
        "  times.append(t)  \n",
        "\n",
        "b = np.array(range(min(times)-1, max(times)+1))+0.5\n",
        "plt.hist(times, bins = b )\n",
        "plt.title(\"Heap Sort\")\n",
        "plt.xlabel(\"Steps\")\n",
        "plt.ylabel(\"Frequency\")\n",
        "plt.show()\n",
        "    \n",
        "print(\"n\",n)\n",
        "print(\"number of permutations n! =\",math.factorial(n)) \n",
        "print(\"exp min =\",min(times))\n",
        "print(\"min formula 5*n-4 =\",5*n-4)\n",
        "print(\"exp max =\",max(times))\n",
        "print(\"max formula 3/2*n**2+7/2*n-4 =\",3/2*n**2+7/2*n-4)\n",
        "print(\"exp mean =\",np.mean(times))\n",
        "print(\"mean formula 3/4*n**2+17/4*n-4 =\",3/4*n**2+17/4*n-4)\n",
        "print(\"stdev\",np.std(times))"
      ],
      "execution_count": null,
      "outputs": [
        {
          "output_type": "display_data",
          "data": {
            "text/plain": [
              "<Figure size 432x288 with 1 Axes>"
            ],
            "image/png": "[encoded data removed]"
          },
          "metadata": {
            "needs_background": "light"
          }
        },
        {
          "output_type": "stream",
          "name": "stdout",
          "text": [
            "n 9\n",
            "number of permutations n! = 362880\n",
            "exp min = 132\n",
            "min formula 5*n-4 = 41\n",
            "exp max = 164\n",
            "max formula 3/2*n**2+7/2*n-4 = 149.0\n",
            "exp mean = 148.61428571428573\n",
            "mean formula 3/4*n**2+17/4*n-4 = 95.0\n",
            "stdev 6.760444174917566\n"
          ]
        }
      ]
    },
    {
      "cell_type": "code",
      "metadata": {
        "colab": {
          "base_uri": "https://localhost:8080/",
          "height": 451
        },
        "id": "RaMDOzJ_mVtb",
        "outputId": "4dfdc60f-2169-49c9-cbcd-24d74b91c5af"
      },
      "source": [
        "from itertools import permutations\n",
        "import matplotlib.pyplot as plt\n",
        "import numpy as np\n",
        "import math\n",
        "\n",
        "n=10\n",
        "X = range(n)\n",
        "times = []\n",
        "\n",
        "for P in permutations(X):\n",
        "  t = heap_sort_steps(list(P), B = [])  \n",
        "  times.append(t) \n",
        "\n",
        "b = np.array(range(min(times)-1, max(times)+1))+0.5\n",
        "plt.hist(times, bins = b )\n",
        "plt.title(\"Heap Sort\")\n",
        "plt.xlabel(\"Steps\")\n",
        "plt.ylabel(\"Frequency\")\n",
        "plt.show()\n",
        "    \n",
        "print(\"n\",n)\n",
        "print(\"number of permutations n! =\",math.factorial(n)) \n",
        "print(\"exp min =\",min(times))\n",
        "print(\"min formula 5*n-4 =\",5*n-4)\n",
        "print(\"exp max =\",max(times))\n",
        "print(\"max formula 3/2*n**2+7/2*n-4 =\",3/2*n**2+7/2*n-4)\n",
        "print(\"exp mean =\",np.mean(times))\n",
        "print(\"mean formula 3/4*n**2+17/4*n-4 =\",3/4*n**2+17/4*n-4)\n",
        "print(\"stdev\",np.std(times))"
      ],
      "execution_count": null,
      "outputs": [
        {
          "output_type": "display_data",
          "data": {
            "text/plain": [
              "<Figure size 432x288 with 1 Axes>"
            ],
            "image/png": "[encoded data removed]"
          },
          "metadata": {
            "needs_background": "light"
          }
        },
        {
          "output_type": "stream",
          "name": "stdout",
          "text": [
            "n 10\n",
            "number of permutations n! = 3628800\n",
            "exp min = 151\n",
            "min formula 5*n-4 = 46\n",
            "exp max = 196\n",
            "max formula 3/2*n**2+7/2*n-4 = 181.0\n",
            "exp mean = 175.43526785714286\n",
            "mean formula 3/4*n**2+17/4*n-4 = 113.5\n",
            "stdev 7.669967342524705\n"
          ]
        }
      ]
    },
    {
      "cell_type": "code",
      "metadata": {
        "colab": {
          "base_uri": "https://localhost:8080/",
          "height": 285
        },
        "id": "FkOMRk7RlTqQ",
        "outputId": "95d48dc5-bed2-4dd0-fbfa-94ea027406d8"
      },
      "source": [
        "# https://towardsdatascience.com/an-easy-introduction-to-3d-plotting-with-matplotlib-801561999725\n",
        "from itertools import permutations\n",
        "import numpy as np\n",
        "import matplotlib.pyplot as plt\n",
        "from mpl_toolkits.mplot3d import Axes3D\n",
        "import random \n",
        "\n",
        "fig = plt.figure()\n",
        "ax = plt.axes(projection=\"3d\")\n",
        "\n",
        "N = 10\n",
        "\n",
        "x = []\n",
        "y = []\n",
        "z = []\n",
        "dx = []\n",
        "dy = []\n",
        "dz = []\n",
        "\n",
        "for n in np.arange(3,N+1,1):\n",
        "   A = range(n)\n",
        "   times = []\n",
        "\n",
        "   for P in permutations(A):\n",
        "       t = heap_sort_steps(list(P), B = []) \n",
        "       times.append(t)  \n",
        "\n",
        "   b = np.array(range(min(times)-1, max(times)+1))+0.5\n",
        "   H = np.array(np.histogram(times,b))\n",
        "   H[0] = H[0]/np.sum(H[0])\n",
        "   for i in range(len(H[0])):\n",
        "     x.append(n)\n",
        "     y.append(H[1][i])\n",
        "     z.append(0)\n",
        "     dx.append(0.1)\n",
        "     dy.append(0.1)\n",
        "     dz.append(H[0][i])\n",
        "\n",
        "ax.bar3d(x, y, z, dx, dy, dz, color='aqua', zsort='average')\n",
        "plt.show()"
      ],
      "execution_count": null,
      "outputs": [
        {
          "output_type": "stream",
          "name": "stderr",
          "text": [
            "/usr/local/lib/python3.7/dist-packages/ipykernel_launcher.py:29: VisibleDeprecationWarning: Creating an ndarray from ragged nested sequences (which is a list-or-tuple of lists-or-tuples-or ndarrays with different lengths or shapes) is deprecated. If you meant to do this, you must specify 'dtype=object' when creating the ndarray.\n"
          ]
        },
        {
          "output_type": "display_data",
          "data": {
            "text/plain": [
              "<Figure size 432x288 with 1 Axes>"
            ],
            "image/png": "[encoded data removed]"
          },
          "metadata": {
            "needs_background": "light"
          }
        }
      ]
    },
    {
      "cell_type": "code",
      "metadata": {
        "colab": {
          "base_uri": "https://localhost:8080/",
          "height": 296
        },
        "id": "xGglfsdU29d7",
        "outputId": "62765c6c-5f82-40de-a36e-327f23dac2d7"
      },
      "source": [
        "import matplotlib.pyplot as plt\n",
        "import numpy as np\n",
        "\n",
        "n = np.arange(1,21,1)\n",
        "\n",
        "plt.plot(n, 5*n-4,  label = 'Insertion sort best time $5n-4$', color='aqua')\n",
        "plt.plot(n, 3/4*n**2+17/4*n-4, label = 'Insertion sortaverage time $3/4 n*^2+17/4 n - 4$', color='royalblue')\n",
        "plt.plot(n, 3/2*n**2+7/2*n-4, label = 'Insertion sort worst time $3/2 n*^2+7/2 n - 4$',color='blue')\n",
        "plt.xlabel('Array size')\n",
        "plt.ylabel('Steps')\n",
        "plt.legend(loc = 'upper left')"
      ],
      "execution_count": null,
      "outputs": [
        {
          "output_type": "execute_result",
          "data": {
            "text/plain": [
              "<matplotlib.legend.Legend at 0x7f72cdfc8e50>"
            ]
          },
          "metadata": {},
          "execution_count": 34
        },
        {
          "output_type": "display_data",
          "data": {
            "text/plain": [
              "<Figure size 432x288 with 1 Axes>"
            ],
            "image/png": "[encoded data removed]"
          },
          "metadata": {
            "needs_background": "light"
          }
        }
      ]
    },
    {
      "cell_type": "markdown",
      "metadata": {
        "id": "j-so_gwTISPr"
      },
      "source": [
        "# Sample of runs (montecarlo)\n",
        "Generate a sample of *runs=1000,10000* random permutations of size *n=3,4,30,100* (for large *n*), plot the \"approximated o estimated\" time  distribution (number of steps), and print the media and the standar deviation."
      ]
    },
    {
      "cell_type": "code",
      "metadata": {
        "colab": {
          "base_uri": "https://localhost:8080/",
          "height": 451
        },
        "id": "qnVa_8aLIVMD",
        "outputId": "ac01da1a-888e-4531-8dc4-9b9744036bca"
      },
      "source": [
        "import matplotlib.pyplot as plt\n",
        "import numpy as np\n",
        "\n",
        "n=3\n",
        "runs=1000\n",
        "times = []\n",
        "for r in range(1,runs+1): \n",
        "  P= np.random.permutation(n)\n",
        "  t = heap_sort_steps(list(P), B = []) \n",
        "  times.append(t)  \n",
        "\n",
        "b = np.array(range(min(times)-1, max(times)+1))+0.5\n",
        "plt.hist(times, bins = b )  \n",
        "plt.title(\"Heap Sort\")\n",
        "plt.xlabel(\"Steps\")\n",
        "plt.ylabel(\"Frequency\")\n",
        "plt.show()\n",
        "    \n",
        "print(\"n\",n)\n",
        "print(\"runs\",runs)\n",
        "print(\"min\",min(times))\n",
        "print(\"min formula ,5*n-4 =\",5*n-4)\n",
        "print(\"max\",max(times))\n",
        "print(\"max formula 3/2*n**2+7/2*n-4 =\",3/2*n**2+7/2*n-4)\n",
        "print(\"mean\",np.mean(times))\n",
        "print(\"mean formula 3/4*n**2+17/4*n-4 = \",3/4*n**2+17/4*n-4)\n",
        "print(\"stdev\",np.std(times))"
      ],
      "execution_count": null,
      "outputs": [
        {
          "output_type": "display_data",
          "data": {
            "text/plain": [
              "<Figure size 432x288 with 1 Axes>"
            ],
            "image/png": "[encoded data removed]"
          },
          "metadata": {
            "needs_background": "light"
          }
        },
        {
          "output_type": "stream",
          "name": "stdout",
          "text": [
            "n 3\n",
            "runs 1000\n",
            "min 23\n",
            "min formula ,5*n-4 = 11\n",
            "max 23\n",
            "max formula 3/2*n**2+7/2*n-4 = 20.0\n",
            "mean 23.0\n",
            "mean formula 3/4*n**2+17/4*n-4 =  15.5\n",
            "stdev 0.0\n"
          ]
        }
      ]
    },
    {
      "cell_type": "code",
      "metadata": {
        "colab": {
          "base_uri": "https://localhost:8080/",
          "height": 451
        },
        "id": "TGXIVcQTxgh6",
        "outputId": "e7570aac-4652-4094-ee28-9cd49f783851"
      },
      "source": [
        "import matplotlib.pyplot as plt\n",
        "import numpy as np\n",
        "\n",
        "n=4\n",
        "runs=10000\n",
        "times = []\n",
        "for r in range(1,runs+1): \n",
        "  P= np.random.permutation(n)\n",
        "  t = heap_sort_steps(list(P), B = []) \n",
        "  times.append(t)  \n",
        "\n",
        "b = np.array(range(min(times)-1, max(times)+1))+0.5\n",
        "plt.hist(times, bins = b )  \n",
        "plt.title(\"Heap Sort\")\n",
        "plt.xlabel(\"Steps\")\n",
        "plt.ylabel(\"Frequency\")\n",
        "plt.show()\n",
        "    \n",
        "print(\"n\",n)\n",
        "print(\"runs\",runs)\n",
        "print(\"min\",min(times))\n",
        "print(\"min formula ,5*n-4 =\",5*n-4)\n",
        "print(\"max\",max(times))\n",
        "print(\"max formula 3/2*n**2+7/2*n-4 =\",3/2*n**2+7/2*n-4)\n",
        "print(\"mean\",np.mean(times))\n",
        "print(\"mean formula 3/4*n**2+17/4*n-4 = \",3/4*n**2+17/4*n-4)\n",
        "print(\"stdev\",np.std(times))"
      ],
      "execution_count": null,
      "outputs": [
        {
          "output_type": "display_data",
          "data": {
            "text/plain": [
              "<Figure size 432x288 with 1 Axes>"
            ],
            "image/png": "[encoded data removed]"
          },
          "metadata": {
            "needs_background": "light"
          }
        },
        {
          "output_type": "stream",
          "name": "stdout",
          "text": [
            "n 4\n",
            "runs 10000\n",
            "min 34\n",
            "min formula ,5*n-4 = 16\n",
            "max 41\n",
            "max formula 3/2*n**2+7/2*n-4 = 34.0\n",
            "mean 37.514\n",
            "mean formula 3/4*n**2+17/4*n-4 =  25.0\n",
            "stdev 3.4999719998879995\n"
          ]
        }
      ]
    },
    {
      "cell_type": "code",
      "metadata": {
        "colab": {
          "base_uri": "https://localhost:8080/",
          "height": 451
        },
        "id": "gJ2_5RdTxpfE",
        "outputId": "9a5978ee-f67c-42e9-ab95-b429639d175f"
      },
      "source": [
        "import matplotlib.pyplot as plt\n",
        "import numpy as np\n",
        "\n",
        "n=30\n",
        "runs=10000\n",
        "times = []\n",
        "for r in range(1,runs+1): \n",
        "  P= np.random.permutation(n)\n",
        "  t = heap_sort_steps(list(P), B = [])  \n",
        "  times.append(t)  \n",
        "\n",
        "b = np.array(range(min(times)-1, max(times)+1))+0.5\n",
        "plt.hist(times, bins = b )  \n",
        "plt.title(\"Heap Sort\")\n",
        "plt.xlabel(\"Steps\")\n",
        "plt.ylabel(\"Frequency\")\n",
        "plt.show()\n",
        "    \n",
        "print(\"n\",n)\n",
        "print(\"runs\",runs)\n",
        "print(\"min\",min(times))\n",
        "print(\"min formula ,5*n-4 =\",5*n-4)\n",
        "print(\"max\",max(times))\n",
        "print(\"max formula 3/2*n**2+7/2*n-4 =\",3/2*n**2+7/2*n-4)\n",
        "print(\"mean\",np.mean(times))\n",
        "print(\"mean formula 3/4*n**2+17/4*n-4 = \",3/4*n**2+17/4*n-4)\n",
        "print(\"stdev\",np.std(times))"
      ],
      "execution_count": null,
      "outputs": [
        {
          "output_type": "display_data",
          "data": {
            "text/plain": [
              "<Figure size 432x288 with 1 Axes>"
            ],
            "image/png": "[encoded data removed]"
          },
          "metadata": {
            "needs_background": "light"
          }
        },
        {
          "output_type": "stream",
          "name": "stdout",
          "text": [
            "n 30\n",
            "runs 10000\n",
            "min 764\n",
            "min formula ,5*n-4 = 146\n",
            "max 913\n",
            "max formula 3/2*n**2+7/2*n-4 = 1451.0\n",
            "mean 853.7387\n",
            "mean formula 3/4*n**2+17/4*n-4 =  798.5\n",
            "stdev 18.663681906579956\n"
          ]
        }
      ]
    },
    {
      "cell_type": "code",
      "metadata": {
        "colab": {
          "base_uri": "https://localhost:8080/",
          "height": 451
        },
        "id": "DaKKHOES1LDB",
        "outputId": "5154c1cd-81b1-4857-b970-e9f4b088e9fd"
      },
      "source": [
        "import matplotlib.pyplot as plt\n",
        "import numpy as np\n",
        "\n",
        "n=100\n",
        "runs=100000\n",
        "times = []\n",
        "for r in range(1,runs+1): \n",
        "  P= np.random.permutation(n)\n",
        "  t = heap_sort_steps(list(P), B = []) \n",
        "  times.append(t)  \n",
        "\n",
        "b = np.array(range(min(times)-1, max(times)+1))+0.5\n",
        "plt.hist(times, bins = b )  \n",
        "plt.title(\"Insetion Sort\")\n",
        "plt.xlabel(\"Steps\")\n",
        "plt.ylabel(\"Frequency\")\n",
        "plt.show()\n",
        "    \n",
        "print(\"n\",n)\n",
        "print(\"runs\",runs)\n",
        "print(\"min\",min(times))\n",
        "print(\"min formula ,5*n-4 =\",5*n-4)\n",
        "print(\"max\",max(times))\n",
        "print(\"max formula 3/2*n**2+7/2*n-4 =\",3/2*n**2+7/2*n-4)\n",
        "print(\"mean\",np.mean(times))\n",
        "print(\"mean formula 3/4*n**2+17/4*n-4 = \",3/4*n**2+17/4*n-4)\n",
        "print(\"stdev\",np.std(times))"
      ],
      "execution_count": null,
      "outputs": [
        {
          "output_type": "display_data",
          "data": {
            "text/plain": [
              "<Figure size 432x288 with 1 Axes>"
            ],
            "image/png": "[encoded data removed]"
          },
          "metadata": {
            "needs_background": "light"
          }
        },
        {
          "output_type": "stream",
          "name": "stdout",
          "text": [
            "n 100\n",
            "runs 100000\n",
            "min 3953\n",
            "min formula ,5*n-4 = 496\n",
            "max 4280\n",
            "max formula 3/2*n**2+7/2*n-4 = 15346.0\n",
            "mean 4126.4744\n",
            "mean formula 3/4*n**2+17/4*n-4 =  7921.0\n",
            "stdev 39.11306667393903\n"
          ]
        }
      ]
    },
    {
      "cell_type": "markdown",
      "metadata": {
        "id": "lbH_V04H8nKf"
      },
      "source": [
        "# Insertion sort  time complexity histograms for permutations of $n$ elements with repetitions counting steps like CLRS I.2.1 \n",
        "\n",
        "$$t (n) =  2n - 1  + 3 \\sum_{j=2,..,n} t_j $$\n",
        "\n",
        "## Best case - increasingly sorted array \n",
        "$$t_b(n) =  5n - 4$$\n",
        "\n",
        "## Worst case - de creasingly sorted array \n",
        "\n",
        "$$t_w(n) = \\frac{3}{2} n^2 + \\frac{7}{2} n  - 4$$\n",
        "\n",
        "## Average case - expected number of comparisons + swaps on random unifrom permutation of $n$ different elements \n",
        "\n",
        "$$t_a(n) = \\frac{3}{4}n^2 + \\frac{7}{2}n -\\frac{13}{4}= \\Theta(n^2)$$"
      ]
    },
    {
      "cell_type": "code",
      "metadata": {
        "colab": {
          "base_uri": "https://localhost:8080/"
        },
        "id": "YJtCAuQ-5fbv",
        "outputId": "94fd28bb-1da4-4a66-a482-83d128599cd5"
      },
      "source": [
        "from itertools import product\n",
        "\n",
        "n=3 \n",
        "perm = product(range(1,n+1), repeat = n)\n",
        "\n",
        "c=0\n",
        "for i in perm:\n",
        "    print(i)\n",
        "    c+=1\n",
        "\n",
        "print(c)"
      ],
      "execution_count": null,
      "outputs": [
        {
          "output_type": "stream",
          "name": "stdout",
          "text": [
            "(1, 1, 1)\n",
            "(1, 1, 2)\n",
            "(1, 1, 3)\n",
            "(1, 2, 1)\n",
            "(1, 2, 2)\n",
            "(1, 2, 3)\n",
            "(1, 3, 1)\n",
            "(1, 3, 2)\n",
            "(1, 3, 3)\n",
            "(2, 1, 1)\n",
            "(2, 1, 2)\n",
            "(2, 1, 3)\n",
            "(2, 2, 1)\n",
            "(2, 2, 2)\n",
            "(2, 2, 3)\n",
            "(2, 3, 1)\n",
            "(2, 3, 2)\n",
            "(2, 3, 3)\n",
            "(3, 1, 1)\n",
            "(3, 1, 2)\n",
            "(3, 1, 3)\n",
            "(3, 2, 1)\n",
            "(3, 2, 2)\n",
            "(3, 2, 3)\n",
            "(3, 3, 1)\n",
            "(3, 3, 2)\n",
            "(3, 3, 3)\n",
            "27\n"
          ]
        }
      ]
    },
    {
      "cell_type": "code",
      "metadata": {
        "colab": {
          "base_uri": "https://localhost:8080/",
          "height": 451
        },
        "id": "-DZDCLvh9XzP",
        "outputId": "47501c9e-cca8-4372-c83c-d64dea9a5b33"
      },
      "source": [
        "from itertools import product\n",
        "import matplotlib.pyplot as plt\n",
        "import numpy as np \n",
        "\n",
        "n = 3\n",
        " \n",
        "times = []\n",
        "for P in product(range(1,n+1), repeat = n):\n",
        "  t = heap_sort_steps(list(P), B = [])  \n",
        "  times.append(t)  \n",
        "\n",
        "b = np.array(range(min(times)-1, max(times)+1))+0.5\n",
        "plt.hist(times, bins = b )\n",
        "plt.title(\"Heap Sort\")\n",
        "plt.xlabel(\"Steps\")\n",
        "plt.ylabel(\"Frequency\")\n",
        "plt.show()\n",
        "    \n",
        "print(\"n\",n)\n",
        "print(\"number of permutations with repetion =\",n**n) \n",
        "print(\"exp min =\",min(times))\n",
        "print(\"min formula 5*n-4 =\",5*n-4)\n",
        "print(\"exp max =\",max(times))\n",
        "print(\"max formula 3/2*n**2+7/2*n-4 =\",3/2*n**2+7/2*n-4)\n",
        "print(\"exp mean =\",np.mean(times))\n",
        "print(\"mean formula 3/4*n**2+17/4*n-4 =\",3/4*n**2+17/4*n-4)\n",
        "print(\"stdev\",np.std(times))"
      ],
      "execution_count": null,
      "outputs": [
        {
          "output_type": "display_data",
          "data": {
            "text/plain": [
              "<Figure size 432x288 with 1 Axes>"
            ],
            "image/png": "[encoded data removed]"
          },
          "metadata": {
            "needs_background": "light"
          }
        },
        {
          "output_type": "stream",
          "name": "stdout",
          "text": [
            "n 3\n",
            "number of permutations with repetion = 27\n",
            "exp min = 23\n",
            "min formula 5*n-4 = 11\n",
            "exp max = 23\n",
            "max formula 3/2*n**2+7/2*n-4 = 20.0\n",
            "exp mean = 23.0\n",
            "mean formula 3/4*n**2+17/4*n-4 = 15.5\n",
            "stdev 0.0\n"
          ]
        }
      ]
    },
    {
      "cell_type": "code",
      "metadata": {
        "colab": {
          "base_uri": "https://localhost:8080/",
          "height": 451
        },
        "id": "Fk02wx5c-fb-",
        "outputId": "c60bd428-41c7-43fa-8eca-b16c09675f4d"
      },
      "source": [
        "from itertools import product\n",
        "import matplotlib.pyplot as plt\n",
        "import numpy as np \n",
        "\n",
        "n = 4\n",
        " \n",
        "times = []\n",
        "for P in product(range(1,n+1), repeat = n):\n",
        "  t = heap_sort_steps(list(P), B = []) \n",
        "  times.append(t)  \n",
        "\n",
        "b = np.array(range(min(times)-1, max(times)+1))+0.5\n",
        "plt.hist(times, bins = b )\n",
        "plt.title(\"Heap Sort\")\n",
        "plt.xlabel(\"Steps\")\n",
        "plt.ylabel(\"Frequency\")\n",
        "plt.show()\n",
        "    \n",
        "print(\"n\",n)\n",
        "print(\"number of permutations with repetion =\",n**n) \n",
        "print(\"exp min =\",min(times))\n",
        "print(\"min formula 5*n-4 =\",5*n-4)\n",
        "print(\"exp max =\",max(times))\n",
        "print(\"max formula 3/2*n**2+7/2*n-4 =\",3/2*n**2+7/2*n-4)\n",
        "print(\"exp mean =\",np.mean(times))\n",
        "print(\"mean formula 3/4*n**2+7/2*n-13/4 =\",3/4*n**2+7/2*n-13/4)\n",
        "print(\"stdev\",np.std(times))"
      ],
      "execution_count": null,
      "outputs": [
        {
          "output_type": "display_data",
          "data": {
            "text/plain": [
              "<Figure size 432x288 with 1 Axes>"
            ],
            "image/png": "[encoded data removed]"
          },
          "metadata": {
            "needs_background": "light"
          }
        },
        {
          "output_type": "stream",
          "name": "stdout",
          "text": [
            "n 4\n",
            "number of permutations with repetion = 256\n",
            "exp min = 34\n",
            "min formula 5*n-4 = 16\n",
            "exp max = 41\n",
            "max formula 3/2*n**2+7/2*n-4 = 34.0\n",
            "exp mean = 35.96875\n",
            "mean formula 3/4*n**2+7/2*n-13/4 = 22.75\n",
            "stdev 3.1472644371739724\n"
          ]
        }
      ]
    },
    {
      "cell_type": "code",
      "metadata": {
        "colab": {
          "base_uri": "https://localhost:8080/",
          "height": 451
        },
        "id": "_X_A0sC6-h8N",
        "outputId": "f3b67f8b-5023-43cd-9e4a-532f333bef2e"
      },
      "source": [
        "from itertools import product\n",
        "import matplotlib.pyplot as plt\n",
        "import numpy as np \n",
        "\n",
        "n = 5\n",
        " \n",
        "times = []\n",
        "for P in product(range(1,n+1), repeat = n):\n",
        "  t = heap_sort_steps(list(P), B = []) \n",
        "  times.append(t)  \n",
        "\n",
        "b = np.array(range(min(times)-1, max(times)+1))+0.5\n",
        "plt.hist(times, bins = b )\n",
        "plt.title(\"Heap Sort\")\n",
        "plt.xlabel(\"Steps\")\n",
        "plt.ylabel(\"Frequency\")\n",
        "plt.show()\n",
        "    \n",
        "print(\"n\",n)\n",
        "print(\"number of permutations with repetion =\",n**n) \n",
        "print(\"exp min =\",min(times))\n",
        "print(\"min formula 5*n-4 =\",5*n-4)\n",
        "print(\"exp max =\",max(times))\n",
        "print(\"max formula 3/2*n**2+7/2*n-4 =\",3/2*n**2+7/2*n-4)\n",
        "print(\"exp mean =\",np.mean(times))\n",
        "print(\"mean formula 3/4*n**2+7/2*n-13/4 =\",3/4*n**2+7/2*n-13/4)\n",
        "print(\"stdev\",np.std(times))"
      ],
      "execution_count": null,
      "outputs": [
        {
          "output_type": "display_data",
          "data": {
            "text/plain": [
              "<Figure size 432x288 with 1 Axes>"
            ],
            "image/png": "[encoded data removed]"
          },
          "metadata": {
            "needs_background": "light"
          }
        },
        {
          "output_type": "stream",
          "name": "stdout",
          "text": [
            "n 5\n",
            "number of permutations with repetion = 3125\n",
            "exp min = 45\n",
            "min formula 5*n-4 = 21\n",
            "exp max = 60\n",
            "max formula 3/2*n**2+7/2*n-4 = 51.0\n",
            "exp mean = 53.672\n",
            "mean formula 3/4*n**2+7/2*n-13/4 = 33.0\n",
            "stdev 4.0709232368100485\n"
          ]
        }
      ]
    },
    {
      "cell_type": "code",
      "metadata": {
        "colab": {
          "base_uri": "https://localhost:8080/",
          "height": 451
        },
        "id": "Cwygx1D4ER9O",
        "outputId": "f64f56a6-6866-4bc5-ce6f-8b85fdb89075"
      },
      "source": [
        "from itertools import product\n",
        "import matplotlib.pyplot as plt\n",
        "import numpy as np \n",
        "\n",
        "n = 6\n",
        " \n",
        "times = []\n",
        "for P in product(range(1,n+1), repeat = n):\n",
        "  t = heap_sort_steps(list(P), B = []) \n",
        "  times.append(t)  \n",
        "\n",
        "b = np.array(range(min(times)-1, max(times)+1))+0.5\n",
        "plt.hist(times, bins = b )\n",
        "plt.title(\"Heap Sort\")\n",
        "plt.xlabel(\"Steps\")\n",
        "plt.ylabel(\"Frequency\")\n",
        "plt.show()\n",
        "    \n",
        "print(\"n\",n)\n",
        "print(\"number of permutations with repetion =\",n**n) \n",
        "print(\"exp min =\",min(times))\n",
        "print(\"min formula 5*n-4 =\",5*n-4)\n",
        "print(\"exp max =\",max(times))\n",
        "print(\"max formula 3/2*n**2+7/2*n-4 =\",3/2*n**2+7/2*n-4)\n",
        "print(\"exp mean =\",np.mean(times))\n",
        "print(\"mean formula 3/4*n**2+7/2*n-13/4 =\",3/4*n**2+7/2*n-13/4)\n",
        "print(\"stdev\",np.std(times))"
      ],
      "execution_count": null,
      "outputs": [
        {
          "output_type": "display_data",
          "data": {
            "text/plain": [
              "<Figure size 432x288 with 1 Axes>"
            ],
            "image/png": "[encoded data removed]"
          },
          "metadata": {
            "needs_background": "light"
          }
        },
        {
          "output_type": "stream",
          "name": "stdout",
          "text": [
            "n 6\n",
            "number of permutations with repetion = 46656\n",
            "exp min = 56\n",
            "min formula 5*n-4 = 26\n",
            "exp max = 85\n",
            "max formula 3/2*n**2+7/2*n-4 = 71.0\n",
            "exp mean = 72.45833333333333\n",
            "mean formula 3/4*n**2+7/2*n-13/4 = 44.75\n",
            "stdev 6.473896024227628\n"
          ]
        }
      ]
    },
    {
      "cell_type": "code",
      "metadata": {
        "colab": {
          "base_uri": "https://localhost:8080/",
          "height": 285
        },
        "id": "RFWcVt39GBkd",
        "outputId": "95b03497-3628-452c-8ab0-060b6e5b2f6b"
      },
      "source": [
        "# https://towardsdatascience.com/an-easy-introduction-to-3d-plotting-with-matplotlib-801561999725\n",
        "from itertools import product\n",
        "import numpy as np\n",
        "import matplotlib.pyplot as plt\n",
        "from mpl_toolkits.mplot3d import Axes3D\n",
        "import random \n",
        "\n",
        "fig = plt.figure()\n",
        "ax = plt.axes(projection=\"3d\")\n",
        "\n",
        "N = 8\n",
        "\n",
        "x = []\n",
        "y = []\n",
        "z = []\n",
        "dx = []\n",
        "dy = []\n",
        "dz = []\n",
        "\n",
        "for n in np.arange(3,N+1,1):\n",
        "\n",
        "   times = []\n",
        "\n",
        "   for P in product(range(1,n+1), repeat = n):\n",
        "       t = heap_sort_steps(list(P), B = [])  \n",
        "       times.append(t)  \n",
        "\n",
        "   b = np.array(range(min(times)-1, max(times)+1))+0.5\n",
        "   H = np.array(np.histogram(times,b))\n",
        "   H[0] = H[0]/np.sum(H[0])\n",
        "   for i in range(len(H[0])):\n",
        "     x.append(n)\n",
        "     y.append(H[1][i])\n",
        "     z.append(0)\n",
        "     dx.append(0.1)\n",
        "     dy.append(0.1)\n",
        "     dz.append(H[0][i])\n",
        "\n",
        "ax.bar3d(x, y, z, dx, dy, dz, color='aqua', zsort='average')\n",
        "plt.show()"
      ],
      "execution_count": null,
      "outputs": [
        {
          "output_type": "stream",
          "name": "stderr",
          "text": [
            "/usr/local/lib/python3.7/dist-packages/ipykernel_launcher.py:29: VisibleDeprecationWarning: Creating an ndarray from ragged nested sequences (which is a list-or-tuple of lists-or-tuples-or ndarrays with different lengths or shapes) is deprecated. If you meant to do this, you must specify 'dtype=object' when creating the ndarray.\n"
          ]
        },
        {
          "output_type": "display_data",
          "data": {
            "text/plain": [
              "<Figure size 432x288 with 1 Axes>"
            ],
            "image/png": "[encoded data removed]"
          },
          "metadata": {
            "needs_background": "light"
          }
        }
      ]
    },
    {
      "cell_type": "code",
      "metadata": {
        "colab": {
          "base_uri": "https://localhost:8080/",
          "height": 285
        },
        "id": "zCIJ07GqklOx",
        "outputId": "6eff378e-a2a3-48ed-a220-873b3be7d0ee"
      },
      "source": [
        "# https://towardsdatascience.com/an-easy-introduction-to-3d-plotting-with-matplotlib-801561999725\n",
        "from itertools import product\n",
        "import numpy as np\n",
        "import matplotlib.pyplot as plt\n",
        "from mpl_toolkits.mplot3d import Axes3D\n",
        "import random \n",
        "\n",
        "fig = plt.figure()\n",
        "ax = plt.axes(projection=\"3d\")\n",
        "\n",
        "N = 8\n",
        "\n",
        "x = []\n",
        "y = []\n",
        "z = []\n",
        "dx = []\n",
        "dy = []\n",
        "dz = []\n",
        "\n",
        "for n in np.arange(3,N+1,1):\n",
        "  \n",
        "   times = []\n",
        "\n",
        "   for P in product(range(1,n+1), repeat = n):\n",
        "       t = heap_sort_steps(list(P), B = [])  \n",
        "       times.append(t) \n",
        "\n",
        "   b = np.array(range(min(times)-1, max(times)+1))+0.5\n",
        "   H = np.array(np.histogram(times,b))\n",
        "   H[0] = H[0]/np.sum(H[0])\n",
        "   for i in range(len(H[0])):\n",
        "     x.append(n)\n",
        "     y.append(H[1][i])\n",
        "     z.append(0)\n",
        "     dx.append(0.1)\n",
        "     dy.append(0.1)\n",
        "     dz.append(H[0][i])\n",
        "\n",
        "ax.view_init(30, 10)\n",
        "ax.bar3d(x, y, z, dx, dy, dz, color='aqua', zsort='average')\n",
        "plt.show()"
      ],
      "execution_count": null,
      "outputs": [
        {
          "output_type": "stream",
          "name": "stderr",
          "text": [
            "/usr/local/lib/python3.7/dist-packages/ipykernel_launcher.py:29: VisibleDeprecationWarning: Creating an ndarray from ragged nested sequences (which is a list-or-tuple of lists-or-tuples-or ndarrays with different lengths or shapes) is deprecated. If you meant to do this, you must specify 'dtype=object' when creating the ndarray.\n"
          ]
        },
        {
          "output_type": "display_data",
          "data": {
            "text/plain": [
              "<Figure size 432x288 with 1 Axes>"
            ],
            "image/png": "[encoded data removed]"
          },
          "metadata": {
            "needs_background": "light"
          }
        }
      ]
    },
    {
      "cell_type": "markdown",
      "metadata": {
        "id": "wfg90NPdEzll"
      },
      "source": [
        "# Average case - expected number of comparisons + swaps on random unifrom permtation of $n$   elements with repetitions $t_a(n) = \\frac{3}{4}n^2 + \\frac{7}{2}n  - \\frac{13}{4} = \\Theta(n^2) $"
      ]
    },
    {
      "cell_type": "code",
      "metadata": {
        "colab": {
          "base_uri": "https://localhost:8080/",
          "height": 175
        },
        "id": "UPoRscjA-nQe",
        "outputId": "020f65fb-1c91-4dbc-88a5-25ec65501f97"
      },
      "source": [
        "# Average case on random uniform permtations with repetitions of  $n$   elements  $t_a(n) = \\frac{3}{4}n^2 + \\frac{7}{2}n -\\frac{13}{4}= \\Theta(n^2) $\n",
        "import numpy as np \n",
        "import pandas as pd\n",
        "import scipy.linalg as la\n",
        "\n",
        "n = np.array([3.0,4.0,5.0,6.0])    # Number n of sorted elments \n",
        "t = np.array([23.0,34.0,52.0,70.0]) # Average comparisons + swaps for the corresponding n \n",
        "\n",
        "data = pd.DataFrame({'n': n, 't': t})\n",
        "data"
      ],
      "execution_count": null,
      "outputs": [
        {
          "output_type": "execute_result",
          "data": {
            "text/plain": [
              "     n     t\n",
              "0  3.0  23.0\n",
              "1  4.0  34.0\n",
              "2  5.0  52.0\n",
              "3  6.0  70.0"
            ],
            "text/html": [
              "\n",
              "  <div id=\"df-aee25e62-ea6c-49b3-9fad-3a5b4a39ccf4\">\n",
              "    <div class=\"colab-df-container\">\n",
              "      <div>\n",
              "<style scoped>\n",
              "    .dataframe tbody tr th:only-of-type {\n",
              "        vertical-align: middle;\n",
              "    }\n",
              "\n",
              "    .dataframe tbody tr th {\n",
              "        vertical-align: top;\n",
              "    }\n",
              "\n",
              "    .dataframe thead th {\n",
              "        text-align: right;\n",
              "    }\n",
              "</style>\n",
              "<table border=\"1\" class=\"dataframe\">\n",
              "  <thead>\n",
              "    <tr style=\"text-align: right;\">\n",
              "      <th></th>\n",
              "      <th>n</th>\n",
              "      <th>t</th>\n",
              "    </tr>\n",
              "  </thead>\n",
              "  <tbody>\n",
              "    <tr>\n",
              "      <th>0</th>\n",
              "      <td>3.0</td>\n",
              "      <td>23.0</td>\n",
              "    </tr>\n",
              "    <tr>\n",
              "      <th>1</th>\n",
              "      <td>4.0</td>\n",
              "      <td>34.0</td>\n",
              "    </tr>\n",
              "    <tr>\n",
              "      <th>2</th>\n",
              "      <td>5.0</td>\n",
              "      <td>52.0</td>\n",
              "    </tr>\n",
              "    <tr>\n",
              "      <th>3</th>\n",
              "      <td>6.0</td>\n",
              "      <td>70.0</td>\n",
              "    </tr>\n",
              "  </tbody>\n",
              "</table>\n",
              "</div>\n",
              "      <button class=\"colab-df-convert\" onclick=\"convertToInteractive('df-aee25e62-ea6c-49b3-9fad-3a5b4a39ccf4')\"\n",
              "              title=\"Convert this dataframe to an interactive table.\"\n",
              "              style=\"display:none;\">\n",
              "        \n",
              "  <svg xmlns=\"http://www.w3.org/2000/svg\" height=\"24px\"viewBox=\"0 0 24 24\"\n",
              "       width=\"24px\">\n",
              "    <path d=\"M0 0h24v24H0V0z\" fill=\"none\"/>\n",
              "    <path d=\"M18.56 5.44l.94 2.06.94-2.06 2.06-.94-2.06-.94-.94-2.06-.94 2.06-2.06.94zm-11 1L8.5 8.5l.94-2.06 2.06-.94-2.06-.94L8.5 2.5l-.94 2.06-2.06.94zm10 10l.94 2.06.94-2.06 2.06-.94-2.06-.94-.94-2.06-.94 2.06-2.06.94z\"/><path d=\"M17.41 7.96l-1.37-1.37c-.4-.4-.92-.59-1.43-.59-.52 0-1.04.2-1.43.59L10.3 9.45l-7.72 7.72c-.78.78-.78 2.05 0 2.83L4 21.41c.39.39.9.59 1.41.59.51 0 1.02-.2 1.41-.59l7.78-7.78 2.81-2.81c.8-.78.8-2.07 0-2.86zM5.41 20L4 18.59l7.72-7.72 1.47 1.35L5.41 20z\"/>\n",
              "  </svg>\n",
              "      </button>\n",
              "      \n",
              "  <style>\n",
              "    .colab-df-container {\n",
              "      display:flex;\n",
              "      flex-wrap:wrap;\n",
              "      gap: 12px;\n",
              "    }\n",
              "\n",
              "    .colab-df-convert {\n",
              "      background-color: #E8F0FE;\n",
              "      border: none;\n",
              "      border-radius: 50%;\n",
              "      cursor: pointer;\n",
              "      display: none;\n",
              "      fill: #1967D2;\n",
              "      height: 32px;\n",
              "      padding: 0 0 0 0;\n",
              "      width: 32px;\n",
              "    }\n",
              "\n",
              "    .colab-df-convert:hover {\n",
              "      background-color: #E2EBFA;\n",
              "      box-shadow: 0px 1px 2px rgba(60, 64, 67, 0.3), 0px 1px 3px 1px rgba(60, 64, 67, 0.15);\n",
              "      fill: #174EA6;\n",
              "    }\n",
              "\n",
              "    [theme=dark] .colab-df-convert {\n",
              "      background-color: #3B4455;\n",
              "      fill: #D2E3FC;\n",
              "    }\n",
              "\n",
              "    [theme=dark] .colab-df-convert:hover {\n",
              "      background-color: #434B5C;\n",
              "      box-shadow: 0px 1px 3px 1px rgba(0, 0, 0, 0.15);\n",
              "      filter: drop-shadow(0px 1px 2px rgba(0, 0, 0, 0.3));\n",
              "      fill: #FFFFFF;\n",
              "    }\n",
              "  </style>\n",
              "\n",
              "      <script>\n",
              "        const buttonEl =\n",
              "          document.querySelector('#df-aee25e62-ea6c-49b3-9fad-3a5b4a39ccf4 button.colab-df-convert');\n",
              "        buttonEl.style.display =\n",
              "          google.colab.kernel.accessAllowed ? 'block' : 'none';\n",
              "\n",
              "        async function convertToInteractive(key) {\n",
              "          const element = document.querySelector('#df-aee25e62-ea6c-49b3-9fad-3a5b4a39ccf4');\n",
              "          const dataTable =\n",
              "            await google.colab.kernel.invokeFunction('convertToInteractive',\n",
              "                                                     [key], {});\n",
              "          if (!dataTable) return;\n",
              "\n",
              "          const docLinkHtml = 'Like what you see? Visit the ' +\n",
              "            '<a target=\"_blank\" href=https://colab.research.google.com/notebooks/data_table.ipynb>data table notebook</a>'\n",
              "            + ' to learn more about interactive tables.';\n",
              "          element.innerHTML = '';\n",
              "          dataTable['output_type'] = 'display_data';\n",
              "          await google.colab.output.renderOutput(dataTable, element);\n",
              "          const docLink = document.createElement('div');\n",
              "          docLink.innerHTML = docLinkHtml;\n",
              "          element.appendChild(docLink);\n",
              "        }\n",
              "      </script>\n",
              "    </div>\n",
              "  </div>\n",
              "  "
            ]
          },
          "metadata": {},
          "execution_count": 47
        }
      ]
    },
    {
      "cell_type": "code",
      "metadata": {
        "colab": {
          "base_uri": "https://localhost:8080/"
        },
        "id": "Tm7oxC0t-qid",
        "outputId": "9e6be0ed-a1db-40c6-c892-b5227e5af202"
      },
      "source": [
        "X = np.column_stack([n**0,n**1,n**2,n**3])\n",
        "a = la.solve(X,t)\n",
        "a"
      ],
      "execution_count": null,
      "outputs": [
        {
          "output_type": "execute_result",
          "data": {
            "text/plain": [
              "array([102.        , -68.33333333,  17.5       ,  -1.16666667])"
            ]
          },
          "metadata": {},
          "execution_count": 48
        }
      ]
    },
    {
      "cell_type": "code",
      "metadata": {
        "id": "owW3K50-FWkI"
      },
      "source": [
        "# Average case on random uniform permtations with repetitions of  $n$   elements  $t_a(n) = \\frac{3}{4}n^2 + \\frac{7}{2}n -\\frac{13}{4}= \\Theta(n^2) $\n",
        "import numpy as np \n",
        "import pandas as pd\n",
        "import scipy.linalg as la\n",
        "\n",
        "n = np.array([3.0,4.0,5.0])    # Number n of sorted elments \n",
        "t = np.array([14.0,22.75,33.0]) # Average comparisons + swaps for the corresponding n \n",
        "\n",
        "data = pd.DataFrame({'n': n, 't': t})\n",
        "data"
      ],
      "execution_count": null,
      "outputs": []
    },
    {
      "cell_type": "code",
      "metadata": {
        "id": "qssCjaWwFaFl"
      },
      "source": [
        "X = np.column_stack([n**0,n**1,n**2])\n",
        "a = la.solve(X,t)\n",
        "a"
      ],
      "execution_count": null,
      "outputs": []
    }
  ]
}